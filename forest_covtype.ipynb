{
 "cells": [
  {
   "attachments": {},
   "cell_type": "markdown",
   "metadata": {},
   "source": [
    "## EXAMEN EDA"
   ]
  },
  {
   "cell_type": "code",
   "execution_count": null,
   "metadata": {},
   "outputs": [],
   "source": [
    "import pandas as pd\n",
    "import numpy as np\n",
    "import matplotlib.pyplot as plt"
   ]
  },
  {
   "attachments": {},
   "cell_type": "markdown",
   "metadata": {},
   "source": [
    "### DATASET"
   ]
  },
  {
   "cell_type": "code",
   "execution_count": null,
   "metadata": {},
   "outputs": [],
   "source": [
    "df_forestCovtype = pd.read_csv(\"covtype.data\")"
   ]
  },
  {
   "cell_type": "code",
   "execution_count": null,
   "metadata": {},
   "outputs": [],
   "source": [
    "# Poner el nombre de las columnas en el dataset\n",
    "\n",
    "titulo_columnas = [\"Elevation\", \"Aspect\", \"Slope\", \"Horizontal_Distance_To_Hydrology\",\n",
    "            \"Vertical_Distance_To_Hydrology\", \"Horizontal_Distance_To_Roadways\",\n",
    "            \"Hillshade_9am\", \"Hillshade_Noon\", \"Hillshade_3pm\",\n",
    "            \"Horizontal_Distance_To_Fire_Points\"]\n",
    "wilderness_columnas = [\"Wilderness_Area_\"+str(i) for i in range(1,5)]\n",
    "soil_columnas = [\"Soil_Type_\"+str(i) for i in range(1,41)]\n",
    "\n",
    "titulo_columnas += wilderness_columnas + soil_columnas + [\"Cover_Type\"]\n",
    "df_forestCovtype.columns = titulo_columnas\n",
    "\n",
    "df_forestCovtype"
   ]
  },
  {
   "cell_type": "code",
   "execution_count": null,
   "metadata": {},
   "outputs": [],
   "source": [
    "# Unir las  columnas de wilderness y soil en una sola columna, sumando los valores para ver de cuantos tipos hay\n",
    "\n",
    "df_forestCovtype[\"Wilderness_Area\"] = df_forestCovtype[wilderness_columnas].max(axis = 1)\n",
    "df_forestCovtype.drop(wilderness_columnas, axis = 1, inplace = True)\n",
    "\n",
    "df_forestCovtype[\"Soil_Type\"] = df_forestCovtype[soil_columnas].max(axis = 1)\n",
    "df_forestCovtype.drop(soil_columnas, axis = 1, inplace = True )\n",
    "\n",
    "df_forestCovtype = df_forestCovtype.reset_index(drop = True)\n",
    "df_forestCovtype"
   ]
  },
  {
   "cell_type": "code",
   "execution_count": null,
   "metadata": {},
   "outputs": [],
   "source": [
    "df_forestCovtype.isna().sum()"
   ]
  },
  {
   "cell_type": "code",
   "execution_count": null,
   "metadata": {},
   "outputs": [],
   "source": [
    "df_forestCovtype.info()"
   ]
  },
  {
   "cell_type": "code",
   "execution_count": null,
   "metadata": {},
   "outputs": [],
   "source": [
    "df_forestCovtype.drop(df_forestCovtype.dropna().index)"
   ]
  },
  {
   "cell_type": "code",
   "execution_count": null,
   "metadata": {},
   "outputs": [],
   "source": [
    "df_forestCovtype.describe()"
   ]
  },
  {
   "cell_type": "code",
   "execution_count": null,
   "metadata": {},
   "outputs": [],
   "source": [
    "df_forestCovtype.dtypes"
   ]
  },
  {
   "attachments": {},
   "cell_type": "markdown",
   "metadata": {},
   "source": [
    "### EJERCICIO 1"
   ]
  },
  {
   "attachments": {},
   "cell_type": "markdown",
   "metadata": {},
   "source": [
    "Para conseguir un dataset con una dimensión reducidad, aplica la técnica de Selección de variables basada en árbol de decisión mediante las importancias de cada variable (Decision Trees Importances):\n",
    "\n",
    "- Filtra el tablón para quedarnos solamente con las variables que aglutinan hasta el 95% de la información que se requiere para estimar la variable objetivo.\n",
    "- random_state=100"
   ]
  },
  {
   "cell_type": "code",
   "execution_count": null,
   "metadata": {},
   "outputs": [],
   "source": [
    "target = \"Cover_Type\"\n",
    "features = [x for x in df_forestCovtype.columns if x!= target]\n",
    "print(target)\n",
    "print(features)"
   ]
  },
  {
   "cell_type": "code",
   "execution_count": null,
   "metadata": {},
   "outputs": [],
   "source": [
    "df_forestCovtype[target]"
   ]
  },
  {
   "cell_type": "code",
   "execution_count": null,
   "metadata": {},
   "outputs": [],
   "source": [
    "from sklearn.tree import DecisionTreeRegressor\n",
    "\n",
    "arbol_importancia = DecisionTreeRegressor(max_depth=len(features)+10, random_state = 100)\n",
    "arbol_importancia.fit(X = df_forestCovtype[features], y = df_forestCovtype[target]) "
   ]
  },
  {
   "cell_type": "code",
   "execution_count": null,
   "metadata": {},
   "outputs": [],
   "source": [
    "pred_arbol = arbol_importancia.predict(X = df_forestCovtype[features])\n",
    "\n",
    "from sklearn.metrics import mean_absolute_error\n",
    "from sklearn.metrics import mean_absolute_percentage_error\n",
    "from sklearn.metrics import mean_squared_error\n",
    "from sklearn.metrics import r2_score\n",
    "\n",
    "print('Mean Absolute Error:', mean_absolute_error(df_forestCovtype[target], pred_arbol))\n",
    "print('Mean Absolute Percentage Error:', mean_absolute_percentage_error(df_forestCovtype[target], pred_arbol)*100)\n",
    "print('Mean Squared Error:', mean_squared_error(df_forestCovtype[target], pred_arbol))\n",
    "print('Root Mean Squared Error:', np.sqrt(mean_squared_error(df_forestCovtype[target], pred_arbol)))\n",
    "print('R^2 coefficient of determination:', r2_score(df_forestCovtype[target], pred_arbol))"
   ]
  },
  {
   "cell_type": "code",
   "execution_count": null,
   "metadata": {},
   "outputs": [],
   "source": [
    "arbol_importancia.feature_importances_"
   ]
  },
  {
   "cell_type": "code",
   "execution_count": null,
   "metadata": {},
   "outputs": [],
   "source": [
    "# df con los datos importantes\n",
    "\n",
    "d_importantes = pd.DataFrame(arbol_importancia.feature_importances_, index = features, columns =[\"Importancia\"])\n",
    "\n",
    "d_importantes.sort_values(by = d_importantes.columns[0], ascending = False, inplace = True)\n",
    "d_importantes"
   ]
  },
  {
   "cell_type": "code",
   "execution_count": null,
   "metadata": {},
   "outputs": [],
   "source": [
    "d_importantes[\"imp_acum\"] = d_importantes[\"Importancia\"].cumsum()\n",
    "d_importantes"
   ]
  },
  {
   "cell_type": "code",
   "execution_count": null,
   "metadata": {},
   "outputs": [],
   "source": [
    "# Variables más importantes\n",
    "d_importantes.loc[d_importantes[\"imp_acum\"]<=0.95]"
   ]
  },
  {
   "cell_type": "code",
   "execution_count": null,
   "metadata": {},
   "outputs": [],
   "source": [
    "variables = d_importantes.loc[d_importantes[\"imp_acum\"]>0.95].index.to_list()\n",
    "print(variables)\n",
    "\n",
    "print(\"Variables iniciales: \", len(features))\n",
    "print(\"Número de variables a elimiar: \",len(variables))\n",
    "\n",
    "\n"
   ]
  },
  {
   "cell_type": "code",
   "execution_count": null,
   "metadata": {},
   "outputs": [],
   "source": [
    "# filtrar las varibales y quedarnos con las más importantes\n",
    "\n",
    "df_forestCovtype2 = df_forestCovtype.drop( labels = variables, axis = \"columns\")\n",
    "df_forestCovtype2"
   ]
  },
  {
   "attachments": {},
   "cell_type": "markdown",
   "metadata": {},
   "source": [
    "## EJERCICIO 2"
   ]
  },
  {
   "attachments": {},
   "cell_type": "markdown",
   "metadata": {},
   "source": [
    "Después de filtrar el dataset vamos a plantear un problema de clasificación para conseguir un clasificador de la cubierta forestal en basea a las variables cartográficas.:\n",
    "\n",
    "2.1 Genera una gráfica para visualizar la distribución de las variables del datset en conjunto. Analiza dicha gráfica y explica si hay una necesidad de normalizar los datos.\n",
    "\n",
    "2.2 Normaliza todas las variables del dataset a una escala estándar. Para ello puedes realizar estas transformaciones:\n",
    "\n",
    "- LLevar las variables de entrada a una escala de 0 a 1\n",
    "- Convertir la variable objetivo en valores numéricos entre 0 y el número de clases menos 1"
   ]
  },
  {
   "cell_type": "code",
   "execution_count": null,
   "metadata": {},
   "outputs": [],
   "source": [
    "# IMPORTAR LIBRERÍAS NECESARIAS\n",
    "import matplotlib.pyplot as plt\n",
    "from sklearn.preprocessing import MinMaxScaler, LabelEncoder"
   ]
  },
  {
   "cell_type": "code",
   "execution_count": null,
   "metadata": {},
   "outputs": [],
   "source": [
    "# 2.1\n",
    "df_forestCovtype2.hist(figsize=(10,10))\n",
    "plt.tight_layout()\n",
    "plt.show()"
   ]
  },
  {
   "cell_type": "code",
   "execution_count": null,
   "metadata": {},
   "outputs": [],
   "source": [
    "# 2.2\n",
    "# IMPORTAR LIBRERÍAS NECESARIAS\n",
    "from sklearn.preprocessing import LabelEncoder"
   ]
  },
  {
   "cell_type": "code",
   "execution_count": null,
   "metadata": {},
   "outputs": [],
   "source": [
    "etiquetado = LabelEncoder()\n",
    "etiquetado.fit(df_forestCovtype2[\"Cover_Type\"])"
   ]
  },
  {
   "cell_type": "code",
   "execution_count": null,
   "metadata": {},
   "outputs": [],
   "source": [
    "etiquetado.classes_"
   ]
  },
  {
   "cell_type": "code",
   "execution_count": null,
   "metadata": {},
   "outputs": [],
   "source": [
    "df_forestCovtype2[\"Cover_Type_Num\"] = etiquetado.transform(df_forestCovtype2[\"Cover_Type\"])\n",
    "df_forestCovtype2.groupby([\"Cover_Type\", \"Cover_Type_Num\"]).count()\n",
    "\n",
    "df_forestCovtype3 = df_forestCovtype2.drop(\"Cover_Type\", axis = \"columns\")\n",
    "\n",
    "pd.DataFrame(df_forestCovtype3)"
   ]
  },
  {
   "attachments": {},
   "cell_type": "markdown",
   "metadata": {},
   "source": [
    "## EJERCICIO 3\n"
   ]
  },
  {
   "attachments": {},
   "cell_type": "markdown",
   "metadata": {},
   "source": [
    "Después de estandarizar los datos procedemos a crear el primer clasificador:\n",
    "\n",
    "3.1 Divide el datset en training y en test:\n",
    "\n",
    "- Guarda el 20% de los datos para testeo.\n",
    "- random_state=100\n",
    "\n",
    "3.2 Entrena un modelo de regresión logística:\n",
    "\n",
    "- Número máximo de iteraciones igual a 1000\n",
    "- random_state=100\n",
    "\n",
    "3.3 Calcula diferentes métricas para evaluar este modelo y analiza su rendimiendo.\n",
    "\n",
    "- Accuracy\n",
    "- F1-score (average='weighted')\n",
    "- Classification report (zero_division=0)\n",
    "- Confusion matrix"
   ]
  },
  {
   "cell_type": "code",
   "execution_count": null,
   "metadata": {},
   "outputs": [],
   "source": [
    "# 3.1\n",
    "# IMPORATR LAS LIBRERÍAS NCESARIAS\n",
    "from sklearn.linear_model import LogisticRegression\n",
    "from sklearn.model_selection import train_test_split"
   ]
  },
  {
   "cell_type": "code",
   "execution_count": null,
   "metadata": {},
   "outputs": [],
   "source": [
    "X = df_forestCovtype3.drop(columns = [\"Cover_Type_Num\"])\n",
    "y = df_forestCovtype3[\"Cover_Type_Num\"]\n",
    "\n",
    "X_train, X_test, y_train, y_test = train_test_split(X, y, test_size=0.2, random_state=100)"
   ]
  },
  {
   "cell_type": "code",
   "execution_count": null,
   "metadata": {},
   "outputs": [],
   "source": [
    "# 3.2\n",
    "modelo = LogisticRegression(max_iter=1000, random_state=100)\n",
    "modelo.fit(X_train, y_train)"
   ]
  },
  {
   "cell_type": "code",
   "execution_count": null,
   "metadata": {},
   "outputs": [],
   "source": [
    "# 3.3\n",
    "# IMPORATR LIBRERAS NECESARIAS\n",
    "from sklearn.metrics import accuracy_score, f1_score, classification_report, confusion_matrix"
   ]
  },
  {
   "cell_type": "code",
   "execution_count": null,
   "metadata": {},
   "outputs": [],
   "source": [
    "y_pred = modelo.predict(X_test)\n",
    "\n",
    "accuracy = accuracy_score(y_test, y_pred)\n",
    "f1 = f1_score(y_test, y_pred, average=\"weighted\")\n",
    "classification = classification_report(y_test, y_pred, zero_division=0)\n",
    "confusion = confusion_matrix(y_test, y_pred)\n",
    "\n",
    "print(\"Accuracy: \", accuracy)\n",
    "print(\"F1-score: \", f1)\n",
    "print(\"Classification: \\n\", classification)\n",
    "print(\"Confusion matrix: \\n\", confusion)\n"
   ]
  },
  {
   "attachments": {},
   "cell_type": "markdown",
   "metadata": {},
   "source": [
    "### EJERCICIO 4"
   ]
  },
  {
   "attachments": {},
   "cell_type": "markdown",
   "metadata": {},
   "source": [
    "Ahora probamos la creación de otros modelo basados en árboles de decisión:\n",
    "\n",
    "4.1 Entrena un modelo tipo Decision Tree Classifire y calcula las métricas correspondientes para analizar su rendimiento en comparación con el modelo anterior:\n",
    "\n",
    "- random_state=100\n",
    "- Accuracy\n",
    "- F1-score (average='weighted')\n",
    "- Classification report (zero_division=0)\n",
    "\n",
    "4.2 Saca la curva de complejidad del modelo Decision Tree (Model Complexity Curve) y crea un nuevo clasificador con el valor óptimo de la profundidad del árbol según esta gráfica. Después saca las métricas correspondiente y analiza el rendimiento del modelo en comparación de los anteriores.\n",
    "\n",
    "- random_state=100\n",
    "- rango de profundidades: de 2 a 30 inclusive\n",
    "\n",
    "4.3 Saca la gráfica de el Learning Curve para estos modelos, definiendo y aplicando una función que toma el valor del hiperparámetro como su entrada y dibuja la evolución del rendimiento del modelo para el conjunto de training y de test. Explica si este último modelo tiene preferencia o no, comparando con modelos anteriores.\n",
    "\n",
    "- random_state=100\n",
    "- (Sugerencia: No incluya más de 10 puntos en el eje horizontal y empieza la gráfica con un mínimo de 1000 muestras para el modelo)"
   ]
  },
  {
   "cell_type": "code",
   "execution_count": null,
   "metadata": {},
   "outputs": [],
   "source": [
    "# 4.1\n",
    "# IMPORTAR LIBRERIAS\n",
    "from sklearn.tree import DecisionTreeClassifier"
   ]
  },
  {
   "cell_type": "code",
   "execution_count": null,
   "metadata": {},
   "outputs": [],
   "source": [
    "modelo_dt = DecisionTreeClassifier(random_state=100)\n",
    "modelo_dt.fit(X_train, y_train)\n",
    "\n",
    "y_pred_dt = modelo_dt.predict(X_test)\n",
    "\n",
    "accuracy_dt = accuracy_score(y_test, y_pred_dt)\n",
    "f1_dt = f1_score(y_test, y_pred_dt, average=\"weighted\")\n",
    "classification_dt = classification_report(y_test, y_pred_dt, zero_division=0)\n",
    "\n",
    "print(\"DECISION TREE CLASIFIER\\n-----------------------\")\n",
    "print(\"Accuracy: \", accuracy_dt)\n",
    "print(\"F1-score: \", f1_dt)\n",
    "print(\"Classification: \\n\", classification_dt)"
   ]
  },
  {
   "cell_type": "code",
   "execution_count": null,
   "metadata": {},
   "outputs": [],
   "source": [
    "# 4.2\n",
    "\n",
    "profundidad = range(2, 31)\n",
    "train_scores = []\n",
    "test_scores = []\n",
    "\n",
    "for depth in profundidad:\n",
    "    modelo = DecisionTreeClassifier(max_depth=profundidad, random_state=100)\n",
    "    modelo.fit(X_train, y_train)\n",
    "\n",
    "    train_score = modelo.score(X_train, y_train)\n",
    "    test_score = modelo.score(X_test, y_test)\n",
    "\n",
    "    train_scores.append(train_score)\n",
    "    test_scores.append(test_score)\n",
    "\n",
    "    plt.figure(figsize=(10,6))\n",
    "    plt.plot(profundidad, train_scores, label = \"Train Score\")\n",
    "    plt.plot(profundidad, test_scores, label = \"Test Score\")\n",
    "    plt.xlabel(\"Profundidad\")\n",
    "    plt.ylabel(\"accuracy\")\n",
    "    plt.title(\"Curva de complejidad del modelo Decission Tree\")\n",
    "    plt.legend()\n",
    "    plt.show()\n",
    "\n",
    "    profundidad_optima = profundidad[np.argmax(test_scores)]\n",
    "    print(\"La profundidad óptima es: \", profundidad_optima)\n",
    "\n",
    "    modelo_optima = DecisionTreeClassifier(max_depth=profundidad_optima, random_state=100)\n",
    "    modelo_optima.fit(X_train, y_train)\n",
    "\n",
    "    y_pred_optima = modelo_optima.predict(X_test)\n",
    "    accuracy_optima = accuracy_score(y_test, y_pred_optima)\n",
    "    f1_optima = f1_score(y_test, y_pred_optima, average=\"weighted\")\n",
    "    classification_optima = classification_report(y_test, y_pred_optima, zero_divisions=0)\n",
    "\n",
    "    print(\"Decision Tree Classifier con profundidad óptima\\n-----------------------------------------------\")\n",
    "    print(\"Accuracy: \", accuracy_optima)\n",
    "    print(\"F1-score: \", f1_optima)\n",
    "    print(\"Classification report: \\n\", classification_optima)\n"
   ]
  },
  {
   "cell_type": "code",
   "execution_count": 118,
   "metadata": {},
   "outputs": [
    {
     "data": {
      "image/png": "[encoded data removed]",
      "text/plain": [
       "<Figure size 640x480 with 1 Axes>"
      ]
     },
     "metadata": {},
     "output_type": "display_data"
    }
   ],
   "source": [
    "# 4.3\n",
    "from sklearn.model_selection import learning_curve\n",
    "\n",
    "def plot_learning_curve(estimator,title, X, y, ylim=None, cv=None, n_jobs=None, train_sizes=np.linspace(0.1, 1.0, 10)):\n",
    "    plt.figure()\n",
    "    plt.title(title)\n",
    "    if ylim is not None:\n",
    "        plt.ylim(*ylim)\n",
    "\n",
    "    plt.xlabel(\"Nº de ejemplos de entrenamiento\")\n",
    "    plt.ylabel(\"Accuracy\")\n",
    "    train_sizes, train_scores, test_scores, fit_times, _ = learning_curve(estimator,X,y,cv=cv,n_jobs=n_jobs,train_sizes=train_sizes,return_times=True)\n",
    "    train_scores_mean = np.mean(train_scores, axis=1)\n",
    "    train_scores_std = np.std(train_scores,axis=1)\n",
    "    test_scores_mean = np.mean(test_scores, axis=1)\n",
    "    test_scores_std = np.std(test_scores,axis=1)\n",
    "    fit_times_mean = np.mean(fit_times,axis=1)\n",
    "    fit_times_std = np.std(fit_times,axis=1)\n",
    "    plt.grid()\n",
    "\n",
    "    plt.fill_between(train_sizes, train_scores_mean - train_scores_std, train_scores_mean + train_scores_std, alpha=0.1, color = \"red\")\n",
    "    plt.fill_between(train_sizes, test_scores_mean - test_scores_std, test_scores_mean + test_scores_std, alpha=0.1, color =\"green\")\n",
    "    plt.plot(train_sizes, train_scores_mean, 'o-', color = \"red\", label = \"Training score\")\n",
    "    plt.plot(train_sizes, test_scores_mean, 'o-', color = \"green\", label = \"Cross-validation score\")\n",
    "    plt.legend(loc=\"best\")\n",
    "\n",
    "    return plt\n",
    "\n",
    "cv = 5\n",
    "n_jobs = -1\n",
    "\n",
    "modelo_dt = DecisionTreeClassifier(random_state=100)\n",
    "modelo_dt.fit(X_train, y_train)\n",
    "\n",
    "title = \"LEARNING CURVE\"\n",
    "plot_learning_curve(modelo_dt, title, X_train, y_train, cv=cv, n_jobs=n_jobs)\n",
    "plt.show()\n"
   ]
  }
 ],
 "metadata": {
  "kernelspec": {
   "display_name": "Python 3",
   "language": "python",
   "name": "python3"
  },
  "language_info": {
   "codemirror_mode": {
    "name": "ipython",
    "version": 3
   },
   "file_extension": ".py",
   "mimetype": "text/x-python",
   "name": "python",
   "nbconvert_exporter": "python",
   "pygments_lexer": "ipython3",
   "version": "3.10.11"
  },
  "orig_nbformat": 4
 },
 "nbformat": 4,
 "nbformat_minor": 2
}
